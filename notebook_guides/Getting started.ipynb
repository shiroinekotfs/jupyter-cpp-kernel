{
 "cells": [
  {
   "cell_type": "markdown",
   "id": "3aba1b54-9a9c-4185-8d23-088371fc04e4",
   "metadata": {
    "tags": []
   },
   "source": [
    "# Getting started with C++ 14 kernel for Jupyter\n",
    "\n",
    "## About the contributors\n",
    "\n",
    "1. つき 滝猫 (or just call the nickname `takineko-chan`). [You can see `takineko-chan` GitHub profile.](https://github.com/takinekotfs)\n",
    "\n",
    "2. [`cplusplus.com`](https://cplusplus.com/dochttps://cplusplus.com/doc)\n",
    "\n",
    "3. [`w3school.com`](https://www.w3schools.com/)\n",
    "\n",
    "## Reporting problems to the author\n",
    "\n",
    "If you find a mistake in the kernel or in this documentation, report them on:\n",
    "\n",
    "* [Documentation Problem Report](https://github.com/takinekotfs/jupyter-cpp-kernel-doc/issues)\n",
    "\n",
    "* [C++ kernel interpreter Problem Report](https://github.com/takinekotfs/jupyter-cpp-kernel/issues)"
   ]
  },
  {
   "cell_type": "markdown",
   "id": "b9ebf54c-cf99-4256-a049-6c06c72eac02",
   "metadata": {
    "tags": []
   },
   "source": [
    "# C++ 14 kernel for Jupyter best practices"
   ]
  },
  {
   "cell_type": "markdown",
   "id": "08a0bc58-6e2f-40a8-90e1-76f8e2105523",
   "metadata": {
    "tags": []
   },
   "source": [
    "### 1. You shouldn't use `using namespace std;` in your code because of the conflict with other namespace in production level\n",
    "\n",
    "```cpp\n",
    "// Bad practice\n",
    "#include <iostream>\n",
    "\n",
    "using namespace std; //shouldn't do this\n",
    "\n",
    "int main() {\n",
    "    cout << \"Hello World\" << endl;\n",
    "}\n",
    "```\n",
    "\n",
    "Instead, using the `std::`\n",
    "\n",
    "```cpp\n",
    "// Good practice\n",
    "#include <iostream>\n",
    "\n",
    "int main() {\n",
    "    std::cout << \"Hello World\" << std::endl;\n",
    "}\n",
    "```"
   ]
  },
  {
   "cell_type": "markdown",
   "id": "19c4f7e1-556b-4585-a793-9188d8ce2c7e",
   "metadata": {
    "tags": []
   },
   "source": [
    "### 2. No unused variable. \n",
    "\n",
    "Although the C++ interpreter can ignore this, but you cannot reuse it in the next cell\n",
    "\n",
    "```cpp\n",
    "// Bad practice\n",
    "int i = 5;\n",
    "```\n",
    "\n",
    "At least do something, or please remove unused variable\n",
    "\n",
    "```cpp\n",
    "// Good practice\n",
    "int i = 5; //Remove it, or print it in the next line\n",
    "std::cout << i << std::endl;"
   ]
  },
  {
   "cell_type": "markdown",
   "id": "fe0a18fd-fa66-4690-89c3-76364d62e2cc",
   "metadata": {
    "execution": {
     "iopub.execute_input": "2023-07-17T06:11:14.908417Z",
     "iopub.status.busy": "2023-07-17T06:11:14.907598Z",
     "iopub.status.idle": "2023-07-17T06:11:14.921026Z",
     "shell.execute_reply": "2023-07-17T06:11:14.919856Z",
     "shell.execute_reply.started": "2023-07-17T06:11:14.908398Z"
    },
    "tags": []
   },
   "source": [
    "### 3. You should run the code with `int main() {}` and your code inside the `main()`. \n",
    "\n",
    "Although the interpreter can handle this, this **sometimes** can result into a problem.\n",
    "\n",
    "```cpp\n",
    "// Bad practice\n",
    "#include <iostream>\n",
    "\n",
    "std::cout << \"Hello World\" << std::endl;\n",
    "```\n",
    "\n",
    "Declare the `main()` instead\n",
    "\n",
    "```cpp\n",
    "// Good practice\n",
    "#include <iostream>\n",
    "\n",
    "int main() {\n",
    "    std::cout << \"Hello World\" << std::endl;\n",
    "}\n",
    "```\n",
    "\n",
    "> *Note:* Sometimes, the 3rd practice rule won't be followed, because I want you to see the result quickly, rather than just follow the rule inefficiently. (Tsuki Takineko)"
   ]
  }
 ],
 "metadata": {
  "kernelspec": {
   "display_name": "C++ 14",
   "language": "cpp",
   "name": "cpp14"
  },
  "language_info": {
   "file_extension": ".cpp",
   "mimetype": "text/x-csrc",
   "name": "text/x-csrc"
  },
  "widgets": {
   "application/vnd.jupyter.widget-state+json": {
    "state": {},
    "version_major": 2,
    "version_minor": 0
   }
  }
 },
 "nbformat": 4,
 "nbformat_minor": 5
}
