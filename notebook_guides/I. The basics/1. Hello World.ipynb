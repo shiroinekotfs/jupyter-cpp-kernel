{
 "cells": [
  {
   "cell_type": "markdown",
   "id": "6e3badee-1864-4c70-98db-634330f7f04a",
   "metadata": {
    "tags": []
   },
   "source": [
    "## Your first program with C++\n",
    "\n",
    "Welcome to the C++ 14 interpreter kernel for Jupyter.\n",
    "\n",
    "This is your very first program in C++\n",
    "\n",
    "For the best practices, go and view the `Getting started.ipynb` in the root folder"
   ]
  },
  {
   "cell_type": "markdown",
   "id": "f137c7cf-2c5a-4614-8f72-cbe2486776ba",
   "metadata": {
    "execution": {
     "iopub.execute_input": "2023-07-17T06:32:08.641286Z",
     "iopub.status.busy": "2023-07-17T06:32:08.639813Z",
     "iopub.status.idle": "2023-07-17T06:32:09.142220Z",
     "shell.execute_reply": "2023-07-17T06:32:09.140651Z",
     "shell.execute_reply.started": "2023-07-17T06:32:08.641247Z"
    },
    "tags": []
   },
   "source": [
    "## Printing the outputs\n",
    "\n",
    "In this example, `std::cout` is the printing out command, `std::endl` is the end line command, `<<` used as the seperation between the code, variable, words and others in the code\n",
    "\n",
    "To mark an input as the error handlers, you can try `std::cerr`."
   ]
  },
  {
   "cell_type": "code",
   "execution_count": null,
   "id": "e65d5f25-1570-44ed-bb2c-8b6d68f1e1d2",
   "metadata": {
    "tags": []
   },
   "outputs": [],
   "source": [
    "#include <iostream>\n",
    "\n",
    "std::cout << \"Hello World\" << std::endl;"
   ]
  },
  {
   "cell_type": "code",
   "execution_count": null,
   "id": "e6d16f33-c8ec-4aed-ad5f-cb1331be30e5",
   "metadata": {
    "tags": []
   },
   "outputs": [],
   "source": [
    "#include <iostream>\n",
    "\n",
    "std::cerr << \"Error\" << std::endl;"
   ]
  },
  {
   "cell_type": "markdown",
   "id": "7115cb42-c4ce-4029-8f39-5f2b71054132",
   "metadata": {
    "execution": {
     "iopub.execute_input": "2023-07-17T06:33:26.823080Z",
     "iopub.status.busy": "2023-07-17T06:33:26.821917Z",
     "iopub.status.idle": "2023-07-17T06:33:27.210170Z",
     "shell.execute_reply": "2023-07-17T06:33:27.209312Z",
     "shell.execute_reply.started": "2023-07-17T06:33:26.823058Z"
    },
    "tags": []
   },
   "source": [
    "## Commenting\n",
    "\n",
    "You can use `//` to comment in a single line.\n",
    "\n",
    "Or, you can try `/* */` to mark the character between are the comments"
   ]
  },
  {
   "cell_type": "code",
   "execution_count": null,
   "id": "a86f4552-6bf1-43d3-8e80-19fb805a460f",
   "metadata": {
    "tags": []
   },
   "outputs": [],
   "source": [
    "#include <iostream>\n",
    "/*\n",
    "This is the comment lines. \n",
    "Can be used as the note for devs, or disable any parts of the code\n",
    "*/\n",
    "std::cout << \"Hello World\" /*<< \"This is disabled\"*/ << std::endl;\n",
    "//                         |-----------------------| Comment in the middle of the code"
   ]
  }
 ],
 "metadata": {
  "kernelspec": {
   "display_name": "C++ 14",
   "language": "cpp",
   "name": "cpp14"
  },
  "language_info": {
   "file_extension": ".cpp",
   "mimetype": "text/x-csrc",
   "name": "text/x-csrc"
  },
  "widgets": {
   "application/vnd.jupyter.widget-state+json": {
    "state": {},
    "version_major": 2,
    "version_minor": 0
   }
  }
 },
 "nbformat": 4,
 "nbformat_minor": 5
}
