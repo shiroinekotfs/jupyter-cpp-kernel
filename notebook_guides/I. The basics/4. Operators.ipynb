{
 "cells": [
  {
   "cell_type": "markdown",
   "id": "45b3287d-9fed-40f9-9445-9f8fea6e2e35",
   "metadata": {},
   "source": [
    "## Operators\n",
    "\n",
    "Once introduced to variables and constants, we can begin to operate with them by using operators"
   ]
  },
  {
   "cell_type": "markdown",
   "id": "be14a552-f40a-4470-964b-0cc819b277f9",
   "metadata": {},
   "source": [
    "## Assignment operator (=)\n",
    "\n",
    "The assignment operator assigns a value to a variable.\n",
    "\n",
    "```cpp\n",
    "int i = 5;\n",
    "int x = i;\n",
    "int c, y = i + (c = 5);\n",
    "int z = i = x = 5;\n",
    "std::cout << x;\n",
    "```"
   ]
  },
  {
   "cell_type": "code",
   "execution_count": null,
   "id": "97a28f15-59fc-409c-8980-c1dd0ff9ff54",
   "metadata": {},
   "outputs": [],
   "source": [
    "int i = 5;\n",
    "int x = i;\n",
    "int c, y = i + (c = 5);\n",
    "int z = i = x = 5;\n",
    "std::cout << x;"
   ]
  },
  {
   "cell_type": "markdown",
   "id": "7f028156-1be6-4c2d-855f-61f8b77ac326",
   "metadata": {},
   "source": [
    "## Arithmetic operators\n",
    "\n",
    "The five arithmetical operations supported by C++ are:\n",
    "\n",
    "<p>\n",
    "<table class=\"boxed\">\n",
    "<tbody><tr><th>operator</th><th>description</th></tr>\n",
    "<tr><td><code>+</code></td><td>addition</td></tr>\n",
    "<tr><td><code>-</code></td><td>subtraction</td></tr>\n",
    "<tr><td><code>*</code></td><td>multiplication</td></tr>\n",
    "<tr><td><code>/</code></td><td>division</td></tr>\n",
    "<tr><td><code>%</code></td><td>modulo</td></tr>\n",
    "</tbody></table>\n",
    "</p>\n",
    "\n",
    "For example:\n",
    "\n",
    "```cpp\n",
    "int a, b, c, d;\n",
    "a = b = c = d = 5;\n",
    "std::cout << a+b << \" \" << a-b << \" \" << a*c << \" \" << a/(a+d) << \" \" << a%(a+c) << std::endl;\n",
    "```"
   ]
  },
  {
   "cell_type": "code",
   "execution_count": null,
   "id": "380fa0fe-8acc-422b-baee-31008b8ac162",
   "metadata": {
    "tags": []
   },
   "outputs": [],
   "source": [
    "int a, b, c, d;\n",
    "a = b = c = d = 5;\n",
    "std::cout << a+b << \" \" << a-b << \" \" << a*c << \" \" << a/(a+d) << \" \" << a%(a+c) << std::endl;"
   ]
  },
  {
   "cell_type": "markdown",
   "id": "1b453beb-c3ed-48d7-a013-53b2e6ae6581",
   "metadata": {},
   "source": [
    "## Compound assignment\n",
    "\n",
    "Compound assignment operators modify the current value of a variable by performing an operation on it. \n",
    "\n",
    "(+=, -=, *=, /=, %=, >>=, <<=, &=, ^=, |=)(+=, -=, *=, /=, %=, >>=, <<=, &=, ^=, |=)\n",
    "\n",
    "In C++, compound assignments are equivalent to assigning the result of an operation to the first operand:\n",
    "\n",
    "<p>\n",
    "<table class=\"boxed\">\n",
    "<tbody><tr><th>expression</th><th>equivalent to...</th></tr>\n",
    "<tr><td><code>y += x;</code></td><td><code>y = y + x;</code></td></tr>\n",
    "<tr><td><code>x -= 5;</code></td><td><code>x = x - 5;</code></td></tr>\n",
    "<tr><td><code>x /= y;</code></td><td><code>x = x / y;</code></td></tr>\n",
    "<tr><td><code>price *= units + 1;</code></td><td><code>price = price * (units+1);</code></td></tr>\n",
    "</tbody></table>\n",
    "</p>\n",
    "\n",
    "For an example:\n",
    "\n",
    "```cpp\n",
    "int a, b = 3;\n",
    "a = b;\n",
    "a += 2;             // equivalent to a=a+2\n",
    "std::cout << a;\n",
    "```"
   ]
  },
  {
   "cell_type": "code",
   "execution_count": null,
   "id": "2d455a6d-8341-4b6b-8d71-c7bad4850a0d",
   "metadata": {
    "tags": []
   },
   "outputs": [],
   "source": [
    "int a, b = 3;\n",
    "a = b;\n",
    "a += 2;             // equivalent to a=a+2\n",
    "std::cout << a;"
   ]
  },
  {
   "cell_type": "markdown",
   "id": "bfd69a3b-3ec5-46dd-ad8c-97d826d02cfa",
   "metadata": {},
   "source": [
    "## Increment and decrement\n",
    "\n",
    "Some expression can be shortened even more: the increase operator (++) and the decrease operator (--) increase or reduce by one the value stored in a variable.\n",
    "\n",
    "For an example:\n",
    "\n",
    "```cpp\n",
    "int i = 5;\n",
    "std::cout << i++;\n",
    "```"
   ]
  },
  {
   "cell_type": "code",
   "execution_count": null,
   "id": "10e0f3b2-0a02-4b4f-a185-09c590798b00",
   "metadata": {
    "tags": []
   },
   "outputs": [],
   "source": [
    "int i = 5;\n",
    "std::cout << i++ << std::endl;\n",
    "std::cout << i-- << std::endl;"
   ]
  },
  {
   "cell_type": "markdown",
   "id": "fb7514a5-b2d4-46aa-abf4-58643c4214e5",
   "metadata": {},
   "source": [
    "## Relational and comparison operators\n",
    "\n",
    "Two expressions can be compared using relational and equality operators.\n",
    "\n",
    "<p>\n",
    "<table class=\"boxed\">\n",
    "<tbody><tr><th>operator</th><th>description</th></tr>\n",
    "<tr><td><code>==</code></td><td>Equal to</td></tr>\n",
    "<tr><td><code>!=</code></td><td>Not equal to</td></tr>\n",
    "<tr><td><code>&lt;</code></td><td>Less than</td></tr>\n",
    "<tr><td><code>&gt;</code></td><td>Greater than</td></tr>\n",
    "<tr><td><code>&lt;=</code></td><td>Less than or equal to</td></tr>\n",
    "<tr><td><code>&gt;=</code></td><td>Greater than or equal to</td></tr>\n",
    "</tbody></table>\n",
    "</p>\n",
    "\n",
    "For an example:\n",
    "\n",
    "```cpp\n",
    "(7==5);\n",
    "(9>=5);\n",
    "```"
   ]
  },
  {
   "cell_type": "code",
   "execution_count": null,
   "id": "93903ec2-00c7-4210-90cf-ddff20cb80ab",
   "metadata": {
    "tags": []
   },
   "outputs": [],
   "source": [
    "std::cout << (7==5) << std::endl;\n",
    "std::cout << (9>=5) << std::endl;"
   ]
  },
  {
   "cell_type": "markdown",
   "id": "80cf27da-4b3a-430e-a5b2-f07c988b9443",
   "metadata": {},
   "source": [
    "## Logical operators\n",
    "\n",
    "> For better understanding, [take a look at here](https://en.wikipedia.org/w/index.php?title=Logic_gate)\n",
    "\n",
    "1. The operator `!` is the C++ operator for the Boolean operation NOT. It has only one operand, to its right, and inverts it, producing false if its operand is true, and true if its operand is false.\n",
    "\n",
    "    For an example:\n",
    "\n",
    "    ```cpp\n",
    "    !(7==5);\n",
    "    !true;\n",
    "    !false;\n",
    "    ```\n",
    "\n",
    "2. The operator `&&` corresponds to the Boolean logical operation AND, which yields true if both its operands are true, and false otherwise.\n",
    "\n",
    "    For an example:\n",
    "\n",
    "    ```cpp\n",
    "    (5==5) && (7==5); //false\n",
    "    (5==5) && (6==6); //true \n",
    "    ```\n",
    "\n",
    "3. The operator `||` corresponds to the Boolean logical operation OR, which yields true if either of its operands is true, thus being false only when both operands are false. \n",
    "\n",
    "    For an example:\n",
    "    \n",
    "    ```cpp\n",
    "    (5==5) || (6==2); //true\n",
    "    (5==5) || (10=10); //true\n",
    "    (5==4) || (12==3); //false\n",
    "    ```"
   ]
  },
  {
   "cell_type": "code",
   "execution_count": null,
   "id": "10fbdaae-3725-42c2-b822-20e66726c04d",
   "metadata": {
    "tags": []
   },
   "outputs": [],
   "source": [
    "//NOT operator\n",
    "std::cout << !(7==5) << std::endl;\n",
    "std::cout << !true << std::endl;\n",
    "std::cout << !false << std::endl;\n",
    "    \n",
    "//AND operator\n",
    "std::cout << ((5==5) && (7==5)) << std::endl; //false\n",
    "std::cout << ((5==5) && (6==6)) << std::endl; //true \n",
    "    \n",
    "//OR operator\n",
    "std::cout << ((5==5) || (6==2)) << std::endl; //true\n",
    "std::cout << ((5==5) || (10==10)) << std::endl; //true\n",
    "std::cout << ((5==4) || (12==3)) << std::endl; //false"
   ]
  },
  {
   "cell_type": "markdown",
   "id": "9906bbf9-52e5-49bf-b702-c11973202b3d",
   "metadata": {},
   "source": [
    "## Conditional ternary operator\n",
    "\n",
    "The conditional operator evaluates an expression, returning one value if that expression evaluates to true, and a different one if the expression evaluates as false. \n",
    "\n",
    "For an example:\n",
    "\n",
    "```cpp\n",
    "7==5 ? 4 : 3; //result is 3, since the 7 is not equal 5, otherwise the 4 is ignored\n",
    "```"
   ]
  },
  {
   "cell_type": "code",
   "execution_count": null,
   "id": "2c73a75f-6991-44bd-9748-4dccfc46f574",
   "metadata": {
    "tags": []
   },
   "outputs": [],
   "source": [
    "std::cout << (7==5 ? 4 : 3) << std::endl;"
   ]
  },
  {
   "cell_type": "markdown",
   "id": "002af0bb-3e51-4eb1-b12a-f2b03e8ccedb",
   "metadata": {},
   "source": [
    "## Comma operator\n",
    "\n",
    "The comma operator `,` is used to separate two or more expressions that are included where only one expression is expected\n",
    "\n",
    "For an example:\n",
    "\n",
    "```cpp\n",
    "int b, a = (b = 3, b + 2); // Set a = b+2, where b = 3\n",
    "std::cout << a;\n",
    "``` "
   ]
  },
  {
   "cell_type": "code",
   "execution_count": null,
   "id": "95065459-b30b-44d5-9e67-65373d3f075b",
   "metadata": {
    "tags": []
   },
   "outputs": [],
   "source": [
    "int b, a = (b = 3, b + 2); // Set a = b+2, where b = 3\n",
    "std::cout << a;"
   ]
  },
  {
   "cell_type": "markdown",
   "id": "ea094ece-ede5-4f2c-a445-509d1eac8b79",
   "metadata": {
    "execution": {
     "iopub.execute_input": "2023-07-17T13:54:00.224649Z",
     "iopub.status.busy": "2023-07-17T13:54:00.223552Z",
     "iopub.status.idle": "2023-07-17T13:54:00.597292Z",
     "shell.execute_reply": "2023-07-17T13:54:00.595945Z",
     "shell.execute_reply.started": "2023-07-17T13:54:00.224613Z"
    },
    "tags": []
   },
   "source": [
    "\n",
    "<h2>Bitwise operators</h2>\n",
    "Bitwise operators modify variables considering the bit patterns that represent the values they store.<br>\n",
    "<br>\n",
    "<table class=\"boxed\">\n",
    "<tbody><tr><th>operator</th><th>asm equivalent</th><th>description</th></tr>\n",
    "<tr><td><code>&amp;</code></td><td><code>AND</code></td><td>Bitwise AND</td></tr>\n",
    "<tr><td><code>|</code></td><td><code>OR</code></td><td>Bitwise inclusive OR</td></tr>\n",
    "<tr><td><code>^</code></td><td><code>XOR</code></td><td>Bitwise exclusive OR</td></tr>\n",
    "<tr><td><code>~</code></td><td><code>NOT</code></td><td>Unary complement (bit inversion)</td></tr>\n",
    "<tr><td><code>&lt;&lt;</code></td><td><code>SHL</code></td><td>Shift bits left</td></tr>\n",
    "<tr><td><code>&gt;&gt;</code></td><td><code>SHR</code></td><td>Shift bits right</td></tr>\n",
    "</tbody></table>\n",
    "</section>"
   ]
  },
  {
   "cell_type": "markdown",
   "id": "95e27a60-0d54-4c63-992c-3213412f9a76",
   "metadata": {},
   "source": [
    "## Explicit type casting operator\n",
    "\n",
    "Type casting operators allow to convert a value of a given type to another type\n",
    "\n",
    "For an example:\n",
    "\n",
    "```cpp \n",
    "int i;\n",
    "float f = 3.14;\n",
    "i = (int) f;\n",
    "```"
   ]
  },
  {
   "cell_type": "code",
   "execution_count": null,
   "id": "e0d1282f-739c-48a8-aa1f-981b6884cfca",
   "metadata": {
    "tags": []
   },
   "outputs": [],
   "source": [
    "int i;\n",
    "float f = 3.14;\n",
    "i = (int) f; //interger of 3.14 is 3\n",
    "std::cout << i;"
   ]
  },
  {
   "cell_type": "markdown",
   "id": "c08b063f-8be5-4ef9-ae62-d5d7c64e7c9b",
   "metadata": {},
   "source": [
    "## `sizeof`\n",
    "\n",
    "This operator accepts one parameter, which can be either a type or a variable, and returns the size in bytes of that type or object.\n",
    "\n",
    "```cpp\n",
    "char = \"Word\";\n",
    "x = sizeof (char);\n",
    "```"
   ]
  },
  {
   "cell_type": "code",
   "execution_count": null,
   "id": "b63e7f8c-a90d-4e60-8f2a-65e8848c1e04",
   "metadata": {
    "tags": []
   },
   "outputs": [],
   "source": [
    "int x = sizeof (char);\n",
    "std::cout << x;"
   ]
  },
  {
   "cell_type": "markdown",
   "id": "4deb7d60-197b-4d19-8b61-d88977c09f18",
   "metadata": {},
   "source": [
    "# Precedence of operators\n",
    "\n",
    "<p>\n",
    "<table class=\"boxed\"><tbody><tr><th>Level</th><th>Precedence group</th><th>Operator</th><th>Description</th><th>Grouping</th></tr>\n",
    "<tr><td>1</td><td>Scope</td><td><code>::</code></td><td>scope qualifier</td><td>Left-to-right</td></tr>\n",
    "<tr><td rowspan=\"4\">2</td><td rowspan=\"4\">Postfix (unary)</td><td><code>++ --</code></td><td>postfix increment / decrement</td><td rowspan=\"4\">Left-to-right</td></tr>\n",
    "<tr><td><code>()</code></td><td>functional forms</td></tr>\n",
    "<tr><td><code>[]</code></td><td>subscript</td></tr>\n",
    "<tr><td><code>. -&gt;</code></td><td>member access</td></tr>\n",
    "<tr><td rowspan=\"7\">3</td><td rowspan=\"7\">Prefix (unary)</td><td><code>++ --</code></td><td>prefix increment / decrement</td><td rowspan=\"7\">Right-to-left</td></tr>\n",
    "<tr><td><code>~ !</code></td><td>bitwise NOT / logical NOT</td></tr>\n",
    "<tr><td><code>+ -</code></td><td>unary prefix</td></tr>\n",
    "<tr><td><code>&amp; *</code></td><td>reference / dereference</td></tr>\n",
    "<tr><td><code>new delete</code></td><td>allocation / deallocation</td></tr>\n",
    "<tr><td><code>sizeof</code></td><td>parameter pack</td></tr>\n",
    "<tr><td><code>(<i>type</i>)</code></td><td>C-style type-casting</td></tr>\n",
    "<tr><td>4</td><td>Pointer-to-member</td><td><code>.* -&gt;*</code></td><td>access pointer</td><td>Left-to-right</td></tr>\n",
    "<tr><td>5</td><td>Arithmetic: scaling</td><td><code>* / %</code></td><td>multiply, divide, modulo</td><td>Left-to-right</td></tr>\n",
    "<tr><td>6</td><td>Arithmetic: addition</td><td><code>+ -</code></td><td>addition, subtraction</td><td>Left-to-right</td></tr>\n",
    "<tr><td>7</td><td>Bitwise shift</td><td><code>&lt;&lt; &gt;&gt;</code></td><td>shift left, shift right</td><td>Left-to-right</td></tr>\n",
    "<tr><td>8</td><td>Relational</td><td><code>&lt; &gt; &lt;= &gt;=</code></td><td>comparison operators</td><td>Left-to-right</td></tr>\n",
    "<tr><td>9</td><td>Equality</td><td><code>== !=</code></td><td>equality / inequality</td><td>Left-to-right</td></tr>\n",
    "<tr><td>10</td><td>And</td><td><code>&amp;</code></td><td>bitwise AND</td><td>Left-to-right</td></tr>\n",
    "<tr><td>11</td><td>Exclusive or</td><td><code>^</code></td><td>bitwise XOR</td><td>Left-to-right</td></tr>\n",
    "<tr><td>12</td><td>Inclusive or</td><td><code>|</code></td><td>bitwise OR</td><td>Left-to-right</td></tr>\n",
    "<tr><td>13</td><td>Conjunction</td><td><code>&amp;&amp;</code></td><td>logical AND</td><td>Left-to-right</td></tr>\n",
    "<tr><td>14</td><td>Disjunction</td><td><code>||</code></td><td>logical OR</td><td>Left-to-right</td></tr>\n",
    "<tr><td rowspan=\"2\">15</td><td rowspan=\"2\">Assignment-level expressions</td><td><code>= *= /= %= += -=<br>\n",
    "&gt;&gt;= &lt;&lt;= &amp;= ^= |=</code></td><td>assignment / compound assignment</td><td rowspan=\"2\">Right-to-left</td></tr>\n",
    "<tr><td><code>?:</code></td><td>conditional operator</td></tr>\n",
    "<tr><td>16</td><td>Sequencing</td><td><code>,</code></td><td>comma separator</td><td>Left-to-right</td></tr>\n",
    "</tbody></table>\n",
    "</p>"
   ]
  }
 ],
 "metadata": {
  "kernelspec": {
   "display_name": "C++ 14",
   "language": "cpp",
   "name": "cpp14"
  },
  "language_info": {
   "file_extension": ".cpp",
   "mimetype": "text/x-csrc",
   "name": "text/x-csrc"
  },
  "widgets": {
   "application/vnd.jupyter.widget-state+json": {
    "state": {},
    "version_major": 2,
    "version_minor": 0
   }
  }
 },
 "nbformat": 4,
 "nbformat_minor": 5
}
