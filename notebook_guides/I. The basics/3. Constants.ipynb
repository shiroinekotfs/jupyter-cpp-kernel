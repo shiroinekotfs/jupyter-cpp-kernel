{
 "cells": [
  {
   "cell_type": "markdown",
   "id": "5a733cea-5f06-46ca-ba92-1b554181e05c",
   "metadata": {
    "execution": {
     "iopub.execute_input": "2023-07-17T11:11:45.497525Z",
     "iopub.status.busy": "2023-07-17T11:11:45.496785Z",
     "iopub.status.idle": "2023-07-17T11:11:45.837006Z",
     "shell.execute_reply": "2023-07-17T11:11:45.835983Z",
     "shell.execute_reply.started": "2023-07-17T11:11:45.497508Z"
    },
    "tags": []
   },
   "source": [
    "## Constants\n",
    "\n",
    "*Constants* are expressions with a fixed value."
   ]
  },
  {
   "cell_type": "markdown",
   "id": "01f8fa0a-6941-42fd-a62d-718d61177592",
   "metadata": {
    "tags": []
   },
   "source": [
    "## Literals\n",
    "\n",
    "According to `cplusplus.com`\n",
    "\n",
    "> Literals are the most obvious kind of constants. They are used to express particular values within the source code of a program.\n",
    "\n",
    "Literals can be a binary value, number, string, pointer, or user-defined type, depending on your initialized data type."
   ]
  },
  {
   "cell_type": "markdown",
   "id": "75329d92-6363-4a2a-84b4-f5ebdf9f431a",
   "metadata": {},
   "source": [
    "### Integer Numerals\n",
    "\n",
    "C++ allows using interger numerals in decimal, octal and hexadecimal. In each case, there are several types to declare each values represent the interger.\n",
    "\n",
    "* For octal, put the number `0` in the front of the number\n",
    "\n",
    "```cpp\n",
    "int i = 032; //032 in oct = 26 in dec\n",
    "```\n",
    "\n",
    "* For decimal, use it normally. *Note: remove the `0` before the number, because it will pretend the C++ knows this is a octal, and  print the incorrect result*\n",
    "\n",
    "```cpp\n",
    "int i = 32; //this is 32 in decimal, we use it everyday\n",
    "int i = 032; //this is not 32 in decimal, it's actually 32 in oct\n",
    "```\n",
    "\n",
    "* For hexadecimal, put the `Ox` in the front of the number\n",
    "\n",
    "```cpp\n",
    "int i = 0x10; //10 in hex = 16 in decimal\n",
    "```\n",
    "\n",
    "By default, integer literals are of type int. However, certain suffixes may be appended to an integer literal to specify a different integer type:\n",
    "<p>\n",
    "<table>\n",
    "<tbody><tr><th>Suffix</th><th>Type modifier</th></tr>\n",
    "<tr><td><code>u</code> <i>or</i> <code>U</code></td><td><code>unsigned</code></td></tr>\n",
    "<tr><td><code>l</code> <i>or</i> <code>L</code></td><td><code>long</code></td></tr>\n",
    "<tr><td><code>ll</code> <i>or</i> <code>LL</code></td><td><code>long long</code></td></tr>\n",
    "</tbody></table>\n",
    "</p>\n",
    "\n",
    "These interger types can be assigned like this:\n",
    "\n",
    "```cpp\n",
    "int j = 75;         // int\n",
    "int j = 75u;        // unsigned int\n",
    "int j = 75l;        // long\n",
    "int j = 75ul;       // unsigned long \n",
    "int j = 75lu;       // unsigned long \n",
    "```"
   ]
  },
  {
   "cell_type": "markdown",
   "id": "2aca0bcc-3428-4911-8187-ade9a5d2d6b1",
   "metadata": {},
   "source": [
    "### Floating Point Numerals\n",
    "\n",
    "Floating Point Numerals present with and/or exponents\n",
    "\n",
    "They can include either a decimal point, an `e` character\n",
    "\n",
    "```cpp\n",
    "float y = 3.14159;    // 3.14159\n",
    "float y = 6.02e23;    // 6.02 x 10^23\n",
    "float y = 1.6e-19;    // 1.6 x 10^-19\n",
    "float y = 3.0;        // 3.0  \n",
    "```\n",
    "\n",
    "The default type for floating-point literals is double. Floating-point literals of type float or long double can be specified by adding one of the following suffixes:\n",
    "\n",
    "<p>\n",
    "<table>\n",
    "<tbody><tr><th>Suffix</th><th>Type</th></tr>\n",
    "<tr><td><code>f</code> <i>or</i> <code>F</code></td><td><code>float</code></td></tr>\n",
    "<tr><td><code>l</code> <i>or</i> <code>L</code></td><td><code>long double</code></td></tr>\n",
    "</tbody></table>\n",
    "</p>\n",
    "\n",
    "```cpp\n",
    "float y = 3.14159L;   // long double\n",
    "float y = 6.02e23f;   // float  \n",
    "```"
   ]
  },
  {
   "cell_type": "markdown",
   "id": "a93521e8-7740-4a31-b0bd-aef6c059a15d",
   "metadata": {},
   "source": [
    "### String\n",
    "\n",
    "Character and string literals are enclosed in quotes. `\" \"` is for string and `' '` is for single-character.\n",
    "\n",
    "\n",
    "```cpp\n",
    "char c = 'z';\n",
    "char c = 'p';\n",
    "string d = \"Hello world\";\n",
    "string d = \"How do you do?\";\n",
    "```\n",
    "\n",
    "Escape codes are special character, where they present special behaviours in C++:\n",
    "\n",
    "<p>\n",
    "<table>\n",
    "<tbody><tr><th>Escape code</th><th>Description</th></tr>\n",
    "<tr><td><code>\\n</code></td><td>newline</td></tr>\n",
    "<tr><td><code>\\r</code></td><td>carriage return</td></tr>\n",
    "<tr><td><code>\\t</code></td><td>tab</td></tr>\n",
    "<tr><td><code>\\v</code></td><td>vertical tab</td></tr>\n",
    "<tr><td><code>\\b</code></td><td>backspace</td></tr>\n",
    "<tr><td><code>\\f</code></td><td>form feed (page feed)</td></tr>\n",
    "<tr><td><code>\\a</code></td><td>alert (beep)</td></tr>\n",
    "<tr><td><code>\\'</code></td><td>single quote (<code>'</code>)</td></tr>\n",
    "<tr><td><code>\\\"</code></td><td>double quote (<code>\"</code>)</td></tr>\n",
    "<tr><td><code>\\?</code></td><td>question mark (<code>?</code>)</td></tr>\n",
    "<tr><td><code>\\\\</code></td><td>backslash (<code>\\</code>)</td></tr>\n",
    "</tbody></table>\n",
    "</p>\n",
    "\n",
    "For characters, these prefixes are used to specified with types:\n",
    "\n",
    "<p>\n",
    "<table class=\"boxed\">\n",
    "<tbody><tr><th>Prefix</th><th>Character type</th></tr>\n",
    "<tr><td><code>u</code></td><td><code>char16_t</code></td></tr>\n",
    "<tr><td><code>U</code></td><td><code>char32_t</code></td></tr>\n",
    "<tr><td><code>L</code></td><td><code>wchar_t</code></td></tr>\n",
    "</tbody></table>\n",
    "</p>\n",
    "\n",
    "For string literals, apart from the above u, U, and L, two additional prefixes exist:\n",
    "\n",
    "<table class=\"boxed\">\n",
    "<tbody><tr><th>Prefix</th><th>Description</th></tr>\n",
    "<tr><td><code>u8</code></td><td>The string literal is encoded in the executable using UTF-8</td></tr>\n",
    "<tr><td><code>R</code></td><td>The string literal is a raw string</td></tr>\n",
    "</tbody></table>"
   ]
  },
  {
   "cell_type": "markdown",
   "id": "448e7563-4c7f-4736-ae9f-b7044ca6dbe0",
   "metadata": {},
   "source": [
    "### Other literals\n",
    "\n",
    "* `true` and `false` are the two possible values for variables of type bool.\n",
    "* `nullptr` is the ***null pointer*** value\n",
    "\n",
    "```cpp\n",
    "bool foo = true;\n",
    "bool bar = false;\n",
    "int* p = nullptr;\n",
    "\n",
    "```"
   ]
  },
  {
   "cell_type": "markdown",
   "id": "b07018b1-f5c4-4e92-b420-6970fdfc8f89",
   "metadata": {},
   "source": [
    "## Typed constant expressions\n",
    "\n",
    "Constant expressions are values never change in a C++ program\n",
    "\n",
    "Using `const` to declare a constant expressions.\n",
    "\n",
    "```cpp\n",
    "const double pi = 3.1415926;\n",
    "const char tab = '\\t';\n",
    "```"
   ]
  },
  {
   "cell_type": "code",
   "execution_count": null,
   "id": "0f31ad4a-30df-4890-ac44-f2fb8ef422ed",
   "metadata": {
    "tags": []
   },
   "outputs": [],
   "source": [
    "#include <iostream>\n",
    "\n",
    "const double pi = 3.14159;\n",
    "const char newline = '\\n';\n",
    "\n",
    "double r = 5.0;\n",
    "double circle;\n",
    "circle = 2 * pi * r;\n",
    "std::cout << circle; //circle = 3.14159, see the const above\n",
    "std::cout << newline; //newline = '\\n'. actually it's line break"
   ]
  },
  {
   "cell_type": "markdown",
   "id": "f045b6eb-551b-4131-8e4c-6fe684c40924",
   "metadata": {},
   "source": [
    "## Preprocessor definitions\n",
    "\n",
    "Preprocessor definitions naming constant values.\n",
    "\n",
    "After this directive, any occurrence of identifier in the code is interpreted as replacement, where replacement is any sequence of characters (until the end of the line).\n",
    "\n",
    "Using `#define` to define any constant value in a C++ program.\n",
    "\n",
    "```cpp\n",
    "#define use std::cout\n",
    "#define stop std::endl;\n",
    "```"
   ]
  },
  {
   "cell_type": "code",
   "execution_count": null,
   "id": "5d1b4055-86d6-4b8b-b0fd-78dae62352d2",
   "metadata": {
    "tags": []
   },
   "outputs": [],
   "source": [
    "#include <iostream>\n",
    "#define use std::cout\n",
    "#define stop std::endl;\n",
    "\n",
    "use << \"Hello World\" << stop"
   ]
  }
 ],
 "metadata": {
  "kernelspec": {
   "display_name": "C++ 14",
   "language": "cpp",
   "name": "cpp14"
  },
  "language_info": {
   "file_extension": ".cpp",
   "mimetype": "text/x-csrc",
   "name": "text/x-csrc"
  },
  "widgets": {
   "application/vnd.jupyter.widget-state+json": {
    "state": {},
    "version_major": 2,
    "version_minor": 0
   }
  }
 },
 "nbformat": 4,
 "nbformat_minor": 5
}
