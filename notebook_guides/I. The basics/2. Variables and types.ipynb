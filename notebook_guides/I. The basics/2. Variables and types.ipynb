{
 "cells": [
  {
   "cell_type": "markdown",
   "id": "1f76b0c3-0b0d-48f7-8408-8ba233ba92d0",
   "metadata": {
    "tags": []
   },
   "source": [
    "## Variables types in C++\n",
    "\n",
    "So, let's switch to variables in C++\n",
    "\n",
    "The box below shows types of variables you can use in C++\n",
    "\n",
    "<p>\n",
    "<table class=\"boxed\">\n",
    "<tbody><tr><th>Group</th><th>Type names</th><th>Notes on size / precision</th></tr>\n",
    "<tr><td rowspan=\"4\">Character types</td><td><code><b>char</b></code></td><td>Exactly one byte in size. At least 8 bits.</td></tr>\n",
    "<tr><td><code><b>char16_t</b></code></td><td>Not smaller than <code>char</code>. At least 16 bits.</td></tr>\n",
    "<tr><td><code><b>char32_t</b></code></td><td>Not smaller than <code>char16_t</code>. At least 32 bits.</td></tr>\n",
    "<tr><td><code><b>wchar_t</b></code></td><td>Can represent the largest supported character set.</td></tr>\n",
    "<tr><td rowspan=\"5\">Integer types (signed)</td><td><code><b>signed char</b></code></td><td>Same size as <code>char</code>. At least 8 bits.</td></tr>\n",
    "<tr><td><code><i>signed</i> <b>short</b> <i>int</i></code></td><td>Not smaller than <code>char</code>. At least 16 bits.</td></tr>\n",
    "<tr><td><code><i>signed</i> <b>int</b></code></td><td>Not smaller than <code>short</code>. At least 16 bits.</td></tr>\n",
    "<tr><td><code><i>signed</i> <b>long</b> <i>int</i></code></td><td>Not smaller than <code>int</code>. At least 32 bits.</td></tr>\n",
    "<tr><td><code><i>signed</i> <b>long long</b> <i>int</i></code></td><td>Not smaller than <code>long</code>. At least 64 bits.</td></tr>\n",
    "<tr><td rowspan=\"5\">Integer types (unsigned)</td><td><code><b>unsigned char</b></code></td><td rowspan=\"5\">(same size as their signed counterparts)</td></tr>\n",
    "<tr><td><code><b>unsigned short</b> <i>int</i></code></td></tr>\n",
    "<tr><td><code><b>unsigned</b> <i>int</i></code></td></tr>\n",
    "<tr><td><code><b>unsigned long</b> <i>int</i></code></td></tr>\n",
    "<tr><td><code><b>unsigned long long</b> <i>int</i></code></td></tr>\n",
    "<tr><td rowspan=\"3\">Floating-point types</td><td><code><b>float</b></code></td><td></td></tr>\n",
    "<tr><td><code><b>double</b></code></td><td>Precision not less than <code>float</code></td></tr>\n",
    "<tr><td><code><b>long double</b></code></td><td>Precision not less than <code>double</code></td></tr>\n",
    "<tr><td>Boolean type</td><td><code><b>bool</b></code></td><td></td></tr>\n",
    "<tr><td>Void type</td><td><code><b>void</b></code></td><td>no storage</td></tr>\n",
    "<tr><td>Null pointer</td><td><code><b>decltype(nullptr)</b></code></td><td></td></tr>\n",
    "</tbody></table>\n",
    "</p>"
   ]
  },
  {
   "cell_type": "markdown",
   "id": "00efecaf-31ba-46ef-8d40-7deff34d7b59",
   "metadata": {
    "execution": {
     "iopub.execute_input": "2023-07-17T07:09:19.998585Z",
     "iopub.status.busy": "2023-07-17T07:09:19.998058Z",
     "iopub.status.idle": "2023-07-17T07:09:20.233431Z",
     "shell.execute_reply": "2023-07-17T07:09:20.232521Z",
     "shell.execute_reply.started": "2023-07-17T07:09:19.998570Z"
    },
    "tags": []
   },
   "source": [
    "## Identifiers\n",
    "\n",
    "According to `cplusplus.com`\n",
    "\n",
    "> A valid identifier is a sequence of one or more letters, digits, or underscore characters (_). Spaces, punctuation marks, and symbols cannot be part of an identifier. In addition, identifiers shall always begin with a letter. They can also begin with an underline character (_), but such identifiers are -on most cases- considered reserved for compiler-specific keywords or external identifiers, as well as identifiers containing two successive underscore characters anywhere. In no case can they begin with a digit.\n",
    "\n",
    "Vaild identifier in C++ interpreters include\n",
    "\n",
    "```cpp\n",
    "alignas, alignof, and, and_eq, asm, auto, bitand, bitor, bool, break, case, catch, char, char16_t, char32_t, class, compl, const, constexpr, const_cast, continue, decltype, default, delete, do, double, dynamic_cast, else, enum, explicit, export, extern, false, float, for, friend, goto, if, inline, int, long, mutable, namespace, new, noexcept, not, not_eq, nullptr, operator, or, or_eq, private, protected, public, register, reinterpret_cast, return, short, signed, sizeof, static, static_assert, static_cast, struct, switch, template, this, thread_local, throw, true, try, typedef, typeid, typename, union, unsigned, using, virtual, void, volatile, wchar_t, while, xor, xor_eq\n",
    "```\n",
    "\n",
    "**Very important: The C++ language is a *case sensitive* language.**"
   ]
  },
  {
   "cell_type": "markdown",
   "id": "5c8fc0aa-9639-4723-a468-cedc816f12c1",
   "metadata": {
    "tags": []
   },
   "source": [
    "## Declaration and Initialization of variables \n",
    "\n",
    "C++ is a strongly-typed language, and requires every variable to be declared with its type before its first use. This informs the compiler the size to reserve in memory for the variable and how to interpret its value."
   ]
  },
  {
   "cell_type": "markdown",
   "id": "f200e134-76b5-438b-827b-0e28a122c1da",
   "metadata": {
    "tags": []
   },
   "source": [
    "### Types of initilize a variable\n",
    "\n",
    "In C++, there're 3 different types to declare/initialize a variable:\n",
    "\n",
    "1. C-like initialization\n",
    "\n",
    "```cpp\n",
    "int x = 5;\n",
    "```\n",
    "\n",
    "2. Constructor initialization\n",
    "\n",
    "```cpp\n",
    "int x (0);\n",
    "```\n",
    "\n",
    "3. Uniform initialization\n",
    "\n",
    "```cpp\n",
    "int x {0};\n",
    "```"
   ]
  },
  {
   "cell_type": "code",
   "execution_count": null,
   "id": "efa67d90-6bd3-4ec0-b9fe-8d7f5ecb59a0",
   "metadata": {
    "tags": []
   },
   "outputs": [],
   "source": [
    "#include <iostream>\n",
    "\n",
    "int a = 5; //C-like initialization\n",
    "int b (3); //Constructor initialization\n",
    "int c {2}; //Uniform initialization\n",
    "std::cout << a << \" \" << b << \" \" << c << std::endl;"
   ]
  },
  {
   "cell_type": "markdown",
   "id": "95d7fe2e-0cc5-42e7-b5c2-7d5784d5326b",
   "metadata": {},
   "source": [
    "### `string` in C++\n",
    "\n",
    "`string` in C++ can only be declared by using `std` and `#include <iostream>`\n",
    "\n",
    "```cpp\n",
    "std::string sample = \"This is a string\";\n",
    "```"
   ]
  },
  {
   "cell_type": "code",
   "execution_count": null,
   "id": "4b6eae2a-1b71-44fa-8998-914e9924f5c8",
   "metadata": {
    "tags": []
   },
   "outputs": [],
   "source": [
    "#include <iostream>\n",
    "#include <string>\n",
    "\n",
    "std::string sample = \"This is a string\";\n",
    "std::cout << sample << std::endl;"
   ]
  },
  {
   "cell_type": "markdown",
   "id": "4cc40bfd-5c3c-4a70-a509-4c7e03685684",
   "metadata": {
    "tags": []
   },
   "source": [
    "### Declare multiple variables\n",
    "\n",
    "In C++, you can declare multiple variables in a types.\n",
    "    \n",
    "```cpp \n",
    "int x, b; //Declare empty variables\n",
    "x = 15;\n",
    "b = 1031;\n",
    "int y = 2, c = 4; //Declare where the value of y is 2, and c is 4\n",
    "std::string z, a = \"5\"; //Declare where z is the empty variable, and a is 5\n",
    "```\n",
    "\n",
    "**Note: you cannot declare multiple variable types**\n",
    "\n",
    "```cpp\n",
    "int x, string b; //Error then\n",
    "```"
   ]
  },
  {
   "cell_type": "code",
   "execution_count": null,
   "id": "d65b135e-616c-421f-959e-74fe72c1dd61",
   "metadata": {
    "tags": []
   },
   "outputs": [],
   "source": [
    "#include <iostream>\n",
    "\n",
    "int x, b; //Declare empty variables\n",
    "x = 15;\n",
    "b = 1031;\n",
    "int y = 2, c = 4; //Declare where the value of y is 2, and c is 4\n",
    "std::string z, a = \"5\"; //Declare where z is the empty variable, and a is 5\n",
    "std::cout << x << b;\n",
    "std::cout << y << c;\n",
    "std::cout << z << a;"
   ]
  }
 ],
 "metadata": {
  "kernelspec": {
   "display_name": "C++ 14",
   "language": "cpp",
   "name": "cpp14"
  },
  "language_info": {
   "file_extension": ".cpp",
   "mimetype": "text/x-csrc",
   "name": "text/x-csrc"
  },
  "widgets": {
   "application/vnd.jupyter.widget-state+json": {
    "state": {},
    "version_major": 2,
    "version_minor": 0
   }
  }
 },
 "nbformat": 4,
 "nbformat_minor": 5
}
